{
 "cells": [
  {
   "cell_type": "markdown",
   "id": "8ce4b700",
   "metadata": {},
   "source": [
    "### Acceso a una dll (.so en Linux) desde Python\n",
    "\n",
    "Tan sólo necesitamos especificar el tipo de los argumentos y del resultado del método, o los métodos, que se vayan a utilizar.<br>\n",
    "En el caso del método calcula, acepta variables C++ de tipo int, char* y bool, que son convenientemente definidas con los correspondientes tipos de *ctypes*.<br>\n",
    "Esta función devuelve un array de punteros a char*, con varias imágenes codificadas en base64:"
   ]
  },
  {
   "cell_type": "code",
   "execution_count": 1,
   "id": "0bb99004",
   "metadata": {},
   "outputs": [
    {
     "data": {
      "text/plain": [
       "'DB00114'"
      ]
     },
     "execution_count": 1,
     "metadata": {},
     "output_type": "execute_result"
    }
   ],
   "source": [
    "import os\n",
    "if os.name == 'nt':\n",
    "    dllname=\"D:\\OneDrive - Universidad de Málaga\\proyectos\\cudaMol\\cmake-build-release-visual-studio-22\\Release\\mol2image.dll\"\n",
    "    #dllname=\"D:\\OneDrive - Universidad de Málaga\\proyectos\\cudaMol\\cmake-build-debug-visual-studio\\Debug\\mol2image.dll\"\n",
    "    molname=\"d:/datos/molecules/drugbank_full/DB00114.mol2\"\n",
    "    molname=\"DB00114\"\n",
    "else:\n",
    "    dllname=\"/users/felipe/clion/cudaMol/cmake-build-release-remote-host-aloe/libmol2image.so\"\n",
    "    molname=\"/users/felipe/datos/molecules/drugbank_full/DB00114.mol2\"\n",
    "molname"
   ]
  },
  {
   "cell_type": "code",
   "execution_count": 2,
   "id": "6f86485d",
   "metadata": {},
   "outputs": [],
   "source": [
    "import ctypes as c\n",
    "dll= c.CDLL(dllname)\n",
    "dllh=dll._handle # para poder liberarlo de la memoria. Ver en la última celda.\n",
    "dll.calcula.argtypes=[c.c_int,c.c_char_p,c.c_ulong, c.c_bool, c.c_bool]\n",
    "#dll.calcula.argtypes=[c.c_int]\n",
    "dll.calcula.restype=c.POINTER(c.c_char_p)\n",
    "dll.libera.argtypes=[c.c_int,c.POINTER(c.c_char_p)]\n"
   ]
  },
  {
   "cell_type": "markdown",
   "id": "5b2126e9",
   "metadata": {},
   "source": [
    "### Acceso a variables y funciones dentro de la dll\n",
    "\n",
    "Se muestran dos simples ejemplos:\n",
    "* Acceso a un dato de tipo int\n",
    "* Acceso al método *calcula*"
   ]
  },
  {
   "cell_type": "code",
   "execution_count": 7,
   "id": "9bf36830",
   "metadata": {},
   "outputs": [
    {
     "name": "stdout",
     "output_type": "stream",
     "text": [
      "23\n"
     ]
    }
   ],
   "source": [
    "print(c.c_int.in_dll(dll, 'prueba').value) # acceso a variable interna prueba de la dll\n",
    "cnt = 6"
   ]
  },
  {
   "cell_type": "code",
   "execution_count": 8,
   "id": "1ce1c709",
   "metadata": {},
   "outputs": [],
   "source": [
    "b=dll.calcula(cnt,molname.encode('utf-8'),0,False,True)\n",
    "a=b"
   ]
  },
  {
   "cell_type": "code",
   "execution_count": 9,
   "id": "08a476b4",
   "metadata": {},
   "outputs": [
    {
     "data": {
      "text/plain": [
       "b'10iVBORw0KGgoAAAANSUhEUgAAAIAAAACABAMAAAAxEHz4AAAAMFBMVEUAAADIyMj///+qqqoAAP//AAD/AP///wD//wBAQEAAAICAAACAAICAgACAgABkZGSkV1FDAAACGUlEQVR4Ae2VsY7TQBCGd+TuHGl3RYt0Ci9wh/IAQQo91Vbp05iWKi9zBVUqCtLcNmmoEglRcw9hdC/AGjvnNRchzf9HBCRP5cL76d+Z/98xY4011lhjKepHTQJeubMosNewmFaATDExMe7aD3vTUNQKyhhjpgQQsA3xU/ctECCE5RFgnKjPDwH2HQkoZlwPjJ2Ld0orlHH/NIWmi0a0Voi9gHYGejO6E18YQLDz/TkaAKfa6QXkrUcAeQRTFbX2BgP7GbN449PhxxoMwK+j4v3iFga4/CIAQPRTHPYAAKQp7J9bWekDRwFORkgJEDrNjgXY+e/C7zd3GkAx837wkl/dbzZaBd6/mPWAj29VAMkvggOyHlx9ZgHKHjwf40Y3BdoHjrVyTQL6HeqwG/Q71LF7RbjFdjRjFgptFQvvB6EAFcxhAN0DdyYAPEYBo2DYZ/0PCwIF2GvuBkamJECroPsfzqCR181ieaxhQKPA+8VtWvWGqOIuxsgATNwGTkIMYXlZwJ4GfCF7YL+SU5BvnAA0g6fC9HcBfQAwQNkFYHI4HKgApPOHHeHfJOABk/AEWK3ew4Cd9y9xQNuDycNqVa0RJ3dTaK6wXiNWltYHCVCtwxKQ0L3laQrfP4SgBtib4xcI6HfYBFSQJbiMUA8yQFWRr3qsOAH0DbZAD/8xANuDNAVyLZTkXrrYWjgfgN+M00srGGus/6d+AlnDyDNIQneQAAAAAElFTkSuQmCC'"
      ]
     },
     "execution_count": 9,
     "metadata": {},
     "output_type": "execute_result"
    }
   ],
   "source": [
    "a[0]"
   ]
  },
  {
   "cell_type": "code",
   "execution_count": 10,
   "id": "ac494c01",
   "metadata": {},
   "outputs": [
    {
     "data": {
      "image/png": "[encoded data removed]",
      "text/plain": [
       "<Figure size 640x480 with 6 Axes>"
      ]
     },
     "metadata": {},
     "output_type": "display_data"
    }
   ],
   "source": [
    "import base64\n",
    "from PIL import Image\n",
    "from io import BytesIO\n",
    "import matplotlib.pyplot as plt\n",
    "\n",
    "l=list()\n",
    "for i in range(cnt):\n",
    "    l.append(Image.open(BytesIO(base64.b64decode(a[i][2:]))))\n",
    "    plt.subplot(1,cnt,i+1)\n",
    "    plt.imshow(l[i])"
   ]
  },
  {
   "cell_type": "code",
   "execution_count": 9,
   "id": "b1ef0686",
   "metadata": {},
   "outputs": [],
   "source": [
    "# Usa esta celda para liberar la dll y poder volverla a compilar\n",
    "dll= c.CDLL(dllname)\n",
    "dllh=dll._handle # para poder liberarlo de la memoria. Ver en la última celda.\n",
    "\n",
    "\n",
    "from ctypes import wintypes\n",
    "kernel32 = c.WinDLL('kernel32', use_last_error=True)    \n",
    "kernel32.FreeLibrary.argtypes = [wintypes.HMODULE]\n",
    "while kernel32.FreeLibrary(dllh) != 0:\n",
    "    pass"
   ]
  },
  {
   "cell_type": "code",
   "execution_count": null,
   "id": "eb903cb2",
   "metadata": {},
   "outputs": [],
   "source": []
  },
  {
   "cell_type": "code",
   "execution_count": null,
   "id": "faca86c6",
   "metadata": {},
   "outputs": [],
   "source": []
  },
  {
   "cell_type": "code",
   "execution_count": null,
   "id": "ae044638",
   "metadata": {},
   "outputs": [],
   "source": []
  }
 ],
 "metadata": {
  "kernelspec": {
   "display_name": "Python 3 (ipykernel)",
   "language": "python",
   "name": "python3"
  },
  "language_info": {
   "codemirror_mode": {
    "name": "ipython",
    "version": 3
   },
   "file_extension": ".py",
   "mimetype": "text/x-python",
   "name": "python",
   "nbconvert_exporter": "python",
   "pygments_lexer": "ipython3",
   "version": "3.10.8"
  }
 },
 "nbformat": 4,
 "nbformat_minor": 5
}
